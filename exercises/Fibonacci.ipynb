{
 "cells": [
  {
   "cell_type": "markdown",
   "metadata": {},
   "source": [
    "![Header Banner](https://i.ibb.co/n7vXffB/Screenshot-from-2020-11-01-08-30-40.png)"
   ]
  },
  {
   "cell_type": "markdown",
   "metadata": {},
   "source": [
    "# Fibonacci Numbers"
   ]
  },
  {
   "cell_type": "code",
   "execution_count": 1,
   "metadata": {},
   "outputs": [],
   "source": [
    "import warnings\n",
    "warnings.filterwarnings('ignore')"
   ]
  },
  {
   "cell_type": "code",
   "execution_count": 2,
   "metadata": {},
   "outputs": [],
   "source": [
    "from IPython.display import HTML as display_html"
   ]
  },
  {
   "cell_type": "code",
   "execution_count": 3,
   "metadata": {},
   "outputs": [],
   "source": [
    "iframe = '<iframe width=\"800\" height=\"500\" frameborder=\"0\" src=\"http://pythontutor.com/iframe-embed.html#code=a%20%3D%200%0Ab%20%3D%201%0A%0Afor%20i%20in%20range%2810%29%3A%0A%20%20%20%20c%20%3D%20a%20%2B%20b%20%0A%20%20%20%20print%28f\\'%7Bi%2B1%7D%20Element%20%3A%20%20%7Ba%7D\\'%29%0A%20%20%20%20a%20%3D%20b%0A%20%20%20%20b%20%3D%20c&codeDivHeight=400&codeDivWidth=350&cumulative=true&curInstr=53&heapPrimitives=nevernest&origin=opt-frontend.js&py=3&rawInputLstJSON=%5B%5D&textReferences=false\" />'"
   ]
  },
  {
   "cell_type": "code",
   "execution_count": 4,
   "metadata": {},
   "outputs": [
    {
     "data": {
      "text/html": [
       "<iframe width=\"800\" height=\"500\" frameborder=\"0\" src=\"http://pythontutor.com/iframe-embed.html#code=a%20%3D%200%0Ab%20%3D%201%0A%0Afor%20i%20in%20range%2810%29%3A%0A%20%20%20%20c%20%3D%20a%20%2B%20b%20%0A%20%20%20%20print%28f'%7Bi%2B1%7D%20Element%20%3A%20%20%7Ba%7D'%29%0A%20%20%20%20a%20%3D%20b%0A%20%20%20%20b%20%3D%20c&codeDivHeight=400&codeDivWidth=350&cumulative=true&curInstr=53&heapPrimitives=nevernest&origin=opt-frontend.js&py=3&rawInputLstJSON=%5B%5D&textReferences=false\" />"
      ],
      "text/plain": [
       "<IPython.core.display.HTML object>"
      ]
     },
     "execution_count": 4,
     "metadata": {},
     "output_type": "execute_result"
    }
   ],
   "source": [
    "display_html(iframe)"
   ]
  },
  {
   "cell_type": "markdown",
   "metadata": {},
   "source": [
    "## Code"
   ]
  },
  {
   "cell_type": "code",
   "execution_count": 5,
   "metadata": {},
   "outputs": [
    {
     "name": "stdout",
     "output_type": "stream",
     "text": [
      "1 Element :  0\n",
      "2 Element :  1\n",
      "3 Element :  1\n",
      "4 Element :  2\n",
      "5 Element :  3\n",
      "6 Element :  5\n",
      "7 Element :  8\n",
      "8 Element :  13\n",
      "9 Element :  21\n",
      "10 Element :  34\n"
     ]
    }
   ],
   "source": [
    "a = 0\n",
    "b = 1\n",
    "\n",
    "for i in range(10):\n",
    "    c = a + b \n",
    "    print(f'{i+1} Element :  {a}')\n",
    "    a = b\n",
    "    b = c"
   ]
  }
 ],
 "metadata": {
  "kernelspec": {
   "display_name": "Python 3",
   "language": "python",
   "name": "python3"
  },
  "language_info": {
   "codemirror_mode": {
    "name": "ipython",
    "version": 3
   },
   "file_extension": ".py",
   "mimetype": "text/x-python",
   "name": "python",
   "nbconvert_exporter": "python",
   "pygments_lexer": "ipython3",
   "version": "3.8.5"
  }
 },
 "nbformat": 4,
 "nbformat_minor": 4
}
