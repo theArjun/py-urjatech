{
 "cells": [
  {
   "cell_type": "markdown",
   "metadata": {},
   "source": [
    "![Header Banner](https://i.ibb.co/n7vXffB/Screenshot-from-2020-11-01-08-30-40.png)"
   ]
  },
  {
   "cell_type": "markdown",
   "metadata": {},
   "source": [
    "# Assignment - Loops III"
   ]
  },
  {
   "cell_type": "markdown",
   "metadata": {},
   "source": [
    "Exercise Question 1: Print First 10 natural numbers using while loop\n",
    "\n",
    "        Expected output:\n",
    "\n",
    "        0\n",
    "        1\n",
    "        2\n",
    "        3\n",
    "        4\n",
    "        5\n",
    "        6\n",
    "        7\n",
    "        8\n",
    "        9\n",
    "        10\n"
   ]
  },
  {
   "cell_type": "code",
   "execution_count": null,
   "metadata": {},
   "outputs": [],
   "source": []
  },
  {
   "cell_type": "markdown",
   "metadata": {},
   "source": [
    "Exercise Question 2: Print the following pattern\n",
    "\n",
    "        1     \n",
    "        1 2   \n",
    "        1 2 3   \n",
    "        1 2 3 4   \n",
    "        1 2 3 4 5  "
   ]
  },
  {
   "cell_type": "code",
   "execution_count": null,
   "metadata": {},
   "outputs": [],
   "source": []
  },
  {
   "cell_type": "markdown",
   "metadata": {},
   "source": [
    "Exercise Question 3: Accept number from user and calculate the sum of all number between 1 and given number\n",
    "\n",
    "        For example user given 10 so the output should be 55"
   ]
  },
  {
   "cell_type": "code",
   "execution_count": null,
   "metadata": {},
   "outputs": [],
   "source": []
  },
  {
   "cell_type": "markdown",
   "metadata": {},
   "source": [
    "Exercise Question 4: Print multiplication table of given number\n",
    "\n",
    "    For example num = 2 so the output should be\n",
    "\n",
    "    2\n",
    "    4\n",
    "    6\n",
    "    8\n",
    "    10\n",
    "    12\n",
    "    14\n",
    "    16\n",
    "    18\n",
    "    20"
   ]
  },
  {
   "cell_type": "code",
   "execution_count": null,
   "metadata": {},
   "outputs": [],
   "source": []
  },
  {
   "cell_type": "markdown",
   "metadata": {},
   "source": [
    "Exercise Question 5: Given a list iterate it and display numbers which are divisible by 5 and if you find number greater than 150 stop the loop iteration\n",
    "\n",
    "        list1 = [12, 15, 32, 42, 55, 75, 122, 132, 150, 180, 200]\n",
    "\n",
    "        Expected output:\n",
    "\n",
    "        15\n",
    "        55\n",
    "        75\n",
    "        150"
   ]
  },
  {
   "cell_type": "code",
   "execution_count": null,
   "metadata": {},
   "outputs": [],
   "source": []
  },
  {
   "cell_type": "markdown",
   "metadata": {},
   "source": [
    "Exercise Question 6: Given a number count the total number of digits in a number\n",
    "\n",
    "        For example, the number is 75869, so the output should be 5."
   ]
  },
  {
   "cell_type": "code",
   "execution_count": null,
   "metadata": {},
   "outputs": [],
   "source": []
  },
  {
   "cell_type": "markdown",
   "metadata": {},
   "source": [
    "Exercise Question 7: Print the following pattern using for loop\n",
    "\n",
    "        5 4 3 2 1 \n",
    "        4 3 2 1 \n",
    "        3 2 1 \n",
    "        2 1 \n",
    "        1"
   ]
  },
  {
   "cell_type": "code",
   "execution_count": null,
   "metadata": {},
   "outputs": [],
   "source": []
  },
  {
   "cell_type": "markdown",
   "metadata": {},
   "source": [
    "Exercise Question 8: Reverse the following list using for loop\n",
    "\n",
    "        list1 = [10, 20, 30, 40, 50]\n",
    "\n",
    "        Expected output:\n",
    "\n",
    "        50\n",
    "        40\n",
    "        30\n",
    "        20"
   ]
  },
  {
   "cell_type": "code",
   "execution_count": null,
   "metadata": {},
   "outputs": [],
   "source": []
  },
  {
   "cell_type": "markdown",
   "metadata": {},
   "source": [
    "Exercise Question 9: Display -10 to -1 using for loop\n",
    "\n",
    "        Expected output:\n",
    "\n",
    "        -10\n",
    "        -9\n",
    "        -8\n",
    "        -7\n",
    "        -6\n",
    "        -5\n",
    "        -4\n",
    "        -3\n",
    "        -2\n",
    "        -1"
   ]
  },
  {
   "cell_type": "code",
   "execution_count": null,
   "metadata": {},
   "outputs": [],
   "source": []
  },
  {
   "cell_type": "markdown",
   "metadata": {},
   "source": [
    "Exercise Question 10: Display a message “Done” after successful execution of for loop\n",
    "\n",
    "        For example, the following loop will execute without any error.\n",
    "\n",
    "        for i in range(5):\n",
    "            print(i)\n",
    "\n",
    "        So the Expected output should be:\n",
    "\n",
    "        0\n",
    "        1\n",
    "        2\n",
    "        3\n",
    "        4\n",
    "        Done!"
   ]
  },
  {
   "cell_type": "code",
   "execution_count": null,
   "metadata": {},
   "outputs": [],
   "source": []
  },
  {
   "cell_type": "markdown",
   "metadata": {},
   "source": [
    "Exercise Question 11: Python program to display all the prime numbers within a range\n",
    "\n",
    "        Note: A Prime Number is a whole number that cannot be made by multiplying other whole numbers\n",
    "\n",
    "        Examples:\n",
    "\n",
    "            6 is not a Prime Number because it can be made by 2×3 = 6\n",
    "            37 is a Prime Number because no other whole numbers multiply together to make it.\n",
    "\n",
    "        Given:\n",
    "\n",
    "        start = 25\n",
    "        end = 50\n",
    "\n",
    "        Expected output:\n",
    "\n",
    "        Prime numbers between 25 and 50 are:\n",
    "        29\n",
    "        31\n",
    "        37\n",
    "        41\n",
    "        43\n",
    "        47"
   ]
  },
  {
   "cell_type": "code",
   "execution_count": null,
   "metadata": {},
   "outputs": [],
   "source": []
  },
  {
   "cell_type": "markdown",
   "metadata": {},
   "source": [
    "Exercise Question 12: Display Fibonacci series up to 10 terms\n",
    "\n",
    "        Expected output:\n",
    "\n",
    "        Fibonacci sequence:\n",
    "        0  1  1  2  3  5  8  13  21  34"
   ]
  },
  {
   "cell_type": "code",
   "execution_count": null,
   "metadata": {},
   "outputs": [],
   "source": []
  },
  {
   "cell_type": "markdown",
   "metadata": {},
   "source": [
    "Exercise Question 13: Write a loop to find the factorial of any number\n",
    "\n",
    "        The factorial (symbol: !) means to multiply all whole numbers from our chosen number down to 1.\n",
    "\n",
    "        For example: calculate the factorial of 5\n",
    "\n",
    "        5! = 5 × 4 × 3 × 2 × 1 = 120\n",
    "\n",
    "        Expected output:\n",
    "\n",
    "        120"
   ]
  },
  {
   "cell_type": "code",
   "execution_count": null,
   "metadata": {},
   "outputs": [],
   "source": []
  },
  {
   "cell_type": "markdown",
   "metadata": {},
   "source": [
    "Exercise Question 14: Reverse a given integer number\n",
    "\n",
    "        Given:\n",
    "\n",
    "        76542\n",
    "\n",
    "        Expected output:\n",
    "\n",
    "        24567"
   ]
  },
  {
   "cell_type": "code",
   "execution_count": null,
   "metadata": {},
   "outputs": [],
   "source": []
  },
  {
   "cell_type": "markdown",
   "metadata": {},
   "source": [
    "Exercise Question 15: Use a loop to display elements from a given list which are present at even positions\n",
    "\n",
    "        Given:\n",
    "\n",
    "        my_list = [10, 20, 30, 40, 50, 60, 70, 80, 90, 100]\n",
    "\n",
    "        Expected output:\n",
    "\n",
    "        20 40 60 80 100"
   ]
  },
  {
   "cell_type": "code",
   "execution_count": null,
   "metadata": {},
   "outputs": [],
   "source": []
  },
  {
   "cell_type": "markdown",
   "metadata": {},
   "source": [
    "Exercise Question 16: Display the cube of the number up to a given integer\n",
    "\n",
    "    Given:\n",
    "\n",
    "    input_number = 6\n",
    "\n",
    "    Expected output:\n",
    "\n",
    "    Current Number is : 1  and the cube is 1\n",
    "    Current Number is : 2  and the cube is 8\n",
    "    Current Number is : 3  and the cube is 27\n",
    "    Current Number is : 4  and the cube is 64\n",
    "    Current Number is : 5  and the cube is 125\n",
    "    Current Number is : 6  and the cube is 216"
   ]
  },
  {
   "cell_type": "code",
   "execution_count": null,
   "metadata": {},
   "outputs": [],
   "source": []
  },
  {
   "cell_type": "markdown",
   "metadata": {},
   "source": [
    "Exercise Question 17: Find the sum of the series 2 +22 + 222 + 2222 + .. n terms\n",
    "\n",
    "        Given:\n",
    "\n",
    "        number_of_terms = 5\n",
    "\n",
    "        So series will become 2 + 22 + 222 + 2222 + 22222\n",
    "\n",
    "        Expected output:\n",
    "\n",
    "        24690"
   ]
  },
  {
   "cell_type": "code",
   "execution_count": null,
   "metadata": {},
   "outputs": [],
   "source": []
  },
  {
   "cell_type": "markdown",
   "metadata": {},
   "source": [
    "Exercise Question 18: Print the following pattern\n",
    "\n",
    "        * \n",
    "        * * \n",
    "        * * * \n",
    "        * * * * \n",
    "        * * * * * \n",
    "        * * * * \n",
    "        * * * \n",
    "        * * \n",
    "        *"
   ]
  },
  {
   "cell_type": "code",
   "execution_count": null,
   "metadata": {},
   "outputs": [],
   "source": []
  }
 ],
 "metadata": {
  "kernelspec": {
   "display_name": "Python 3",
   "language": "python",
   "name": "python3"
  },
  "language_info": {
   "codemirror_mode": {
    "name": "ipython",
    "version": 3
   },
   "file_extension": ".py",
   "mimetype": "text/x-python",
   "name": "python",
   "nbconvert_exporter": "python",
   "pygments_lexer": "ipython3",
   "version": "3.8.5"
  }
 },
 "nbformat": 4,
 "nbformat_minor": 4
}
